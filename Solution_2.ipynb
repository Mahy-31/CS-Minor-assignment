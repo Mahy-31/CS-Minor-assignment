{
  "nbformat": 4,
  "nbformat_minor": 0,
  "metadata": {
    "colab": {
      "provenance": [],
      "authorship_tag": "ABX9TyMy680NW4P1VWzfWvSs28Cp",
      "include_colab_link": true
    },
    "kernelspec": {
      "name": "python3",
      "display_name": "Python 3"
    },
    "language_info": {
      "name": "python"
    }
  },
  "cells": [
    {
      "cell_type": "markdown",
      "metadata": {
        "id": "view-in-github",
        "colab_type": "text"
      },
      "source": [
        "<a href=\"https://colab.research.google.com/github/Mahy-31/CS-Minor-assignment/blob/main/Solution_2.ipynb\" target=\"_parent\"><img src=\"https://colab.research.google.com/assets/colab-badge.svg\" alt=\"Open In Colab\"/></a>"
      ]
    },
    {
      "cell_type": "code",
      "source": [
        "import random\n",
        "import time\n",
        "import matplotlib.pyplot as plt\n",
        "from copy import deepcopy\n",
        "\n",
        "teachers = ['T1', 'T2', 'T3', 'T4', 'T5']\n",
        "courses = ['C1', 'C2', 'C3', 'C4', 'C5']\n",
        "rooms = ['R1', 'R2', 'R3']\n",
        "days = ['Mon','Tue','Wed','Thu','Fri']\n",
        "periods = [1,2,3,4,5,6,7,8]\n",
        "\n",
        "variables = courses\n",
        "\n",
        "teacher_assignment = {course: random.choice(teachers) for course in courses}\n",
        "\n",
        "def generate_domains():\n",
        "    domain = []\n",
        "    for day in days:\n",
        "        for period in periods:\n",
        "            for room in rooms:\n",
        "                domain.append((day, period, room))\n",
        "    return {course: deepcopy(domain) for course in courses}"
      ],
      "metadata": {
        "id": "KDNAZsiivI08"
      },
      "execution_count": 11,
      "outputs": []
    },
    {
      "cell_type": "code",
      "source": [
        "def is_consistent(assignment, var, value):\n",
        "    \"\"\"Check hard constraints (teacher and room conflicts)\"\"\"\n",
        "    t = teacher_assignment[var]\n",
        "    day, period, room = value\n",
        "\n",
        "    for other_var, other_val in assignment.items():\n",
        "        other_t = teacher_assignment[other_var]\n",
        "        o_day, o_period, o_room = other_val\n",
        "\n",
        "        if t == other_t and day == o_day and period == o_period:\n",
        "            return False\n",
        "        if room == o_room and day == o_day and period == o_period:\n",
        "            return False\n",
        "    return True\n",
        "\n",
        "def select_unassigned_variable(assignment, domains):\n",
        "    \"\"\"MRV heuristic: choose variable with fewest remaining values\"\"\"\n",
        "    unassigned = [v for v in variables if v not in assignment]\n",
        "    return min(unassigned, key=lambda var: len(domains[var]))\n",
        "\n",
        "def order_domain_values(var, assignment, domains):\n",
        "    \"\"\"LCV heuristic: least constraining value\"\"\"\n",
        "    counts = {}\n",
        "    for value in domains[var]:\n",
        "        count = 0\n",
        "        for other_var in variables:\n",
        "            if other_var != var and other_var not in assignment:\n",
        "                count += sum(1 for v in domains[other_var] if not is_consistent({var:value}, other_var, v))\n",
        "        counts[value] = count\n",
        "    return sorted(domains[var], key=lambda v: counts[v])"
      ],
      "metadata": {
        "id": "bysVJoQHwuGc"
      },
      "execution_count": 18,
      "outputs": []
    },
    {
      "cell_type": "code",
      "source": [
        "def backtrack_mrv_lcv(assignment, domains, backtrack_counter):\n",
        "    if len(assignment) == len(variables):\n",
        "        return assignment\n",
        "    var = select_unassigned_variable(assignment, domains)\n",
        "    for value in order_domain_values(var, assignment, domains):\n",
        "        if is_consistent(assignment, var, value):\n",
        "            assignment[var] = value\n",
        "            result = backtrack_mrv_lcv(assignment, domains, backtrack_counter)\n",
        "            if result:\n",
        "                return result\n",
        "            del assignment[var]\n",
        "            backtrack_counter[0] += 1\n",
        "    return None\n",
        "\n",
        "def forward_checking(assignment, domains, backtrack_counter):\n",
        "    if len(assignment) == len(variables):\n",
        "        return assignment\n",
        "    var = select_unassigned_variable(assignment, domains)\n",
        "    for value in order_domain_values(var, assignment, domains):\n",
        "        if is_consistent(assignment, var, value):\n",
        "            assignment[var] = value\n",
        "            new_domains = deepcopy(domains)\n",
        "            for other_var in variables:\n",
        "                if other_var != var and other_var not in assignment:\n",
        "                    new_domains[other_var] = [v for v in new_domains[other_var] if is_consistent({var:value}, other_var, v)]\n",
        "                    if not new_domains[other_var]:\n",
        "                        break\n",
        "            else:\n",
        "                result = forward_checking(assignment, new_domains, backtrack_counter)\n",
        "                if result:\n",
        "                    return result\n",
        "            del assignment[var]\n",
        "            backtrack_counter[0] += 1\n",
        "    return None"
      ],
      "metadata": {
        "id": "mxh2DZmKww9h"
      },
      "execution_count": 13,
      "outputs": []
    },
    {
      "cell_type": "code",
      "source": [
        "def run_experiments(trials=20):\n",
        "    mrv_lcv_times = []\n",
        "    mrv_lcv_backtracks = []\n",
        "    fc_times = []\n",
        "    fc_backtracks = []\n",
        "\n",
        "    last_mrv_lcv = None\n",
        "    last_fc = None\n",
        "\n",
        "    for i in range(trials):\n",
        "        domains = generate_domains()\n",
        "\n",
        "        backtrack_counter = [0]\n",
        "        start_time = time.time()\n",
        "        result = backtrack_mrv_lcv({}, domains, backtrack_counter)\n",
        "        end_time = time.time()\n",
        "        mrv_lcv_times.append(end_time - start_time)\n",
        "        mrv_lcv_backtracks.append(backtrack_counter[0])\n",
        "        last_mrv_lcv = result\n",
        "\n",
        "        backtrack_counter = [0]\n",
        "        start_time = time.time()\n",
        "        result_fc = forward_checking({}, domains, backtrack_counter)\n",
        "        end_time = time.time()\n",
        "        fc_times.append(end_time - start_time)\n",
        "        fc_backtracks.append(backtrack_counter[0])\n",
        "        last_fc = result_fc\n",
        "\n",
        "    return {\n",
        "        \"MRV+LCV\": {\"times\": mrv_lcv_times, \"backtracks\": mrv_lcv_backtracks},\n",
        "        \"Forward Checking\": {\"times\": fc_times, \"backtracks\": fc_backtracks},\n",
        "        \"last_assignments\": {\"MRV+LCV\": last_mrv_lcv, \"Forward Checking\": last_fc}\n",
        "    }\n",
        "\n",
        "results = run_experiments(trials=20)"
      ],
      "metadata": {
        "id": "q9YFMSAOwyrs"
      },
      "execution_count": 14,
      "outputs": []
    },
    {
      "cell_type": "code",
      "source": [
        "for method in [\"MRV+LCV\",\"Forward Checking\"]:\n",
        "    avg_time = sum(results[method][\"times\"]) / len(results[method][\"times\"])\n",
        "    avg_back = sum(results[method][\"backtracks\"]) / len(results[method][\"backtracks\"])\n",
        "    print(f\"{method}: Avg Time = {avg_time:.5f}s, Avg Backtracks = {avg_back:.2f}\")\n",
        "\n",
        "methods = [\"MRV+LCV\",\"Forward Checking\"]\n",
        "avg_times = [sum(results[m][\"times\"])/len(results[m][\"times\"]) for m in methods]\n",
        "avg_backtracks = [sum(results[m][\"backtracks\"])/len(results[m][\"backtracks\"]) for m in methods]\n",
        "\n",
        "plt.figure(figsize=(10,4))\n",
        "\n",
        "plt.subplot(1,2,1)\n",
        "plt.bar(methods, avg_times, color=['skyblue','salmon'])\n",
        "plt.ylabel(\"Average Time (s)\")\n",
        "plt.title(\"CSP Timetable Generation: Runtime Comparison\")\n",
        "\n",
        "plt.tight_layout()\n",
        "plt.show()"
      ],
      "metadata": {
        "colab": {
          "base_uri": "https://localhost:8080/",
          "height": 442
        },
        "id": "jJD7txNPw1EL",
        "outputId": "b262359b-d73c-49f2-8832-37f8b5dd66cc"
      },
      "execution_count": 17,
      "outputs": [
        {
          "output_type": "stream",
          "name": "stdout",
          "text": [
            "MRV+LCV: Avg Time = 0.08291s, Avg Backtracks = 0.00\n",
            "Forward Checking: Avg Time = 0.09066s, Avg Backtracks = 0.00\n"
          ]
        },
        {
          "output_type": "display_data",
          "data": {
            "text/plain": [
              "<Figure size 1000x400 with 1 Axes>"
            ],
            "image/png": "[encoded data removed]"
          },
          "metadata": {}
        }
      ]
    }
  ]
}